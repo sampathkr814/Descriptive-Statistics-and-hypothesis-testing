{
 "cells": [
  {
   "cell_type": "code",
   "execution_count": 1,
   "id": "282eea2a",
   "metadata": {},
   "outputs": [],
   "source": [
    "import numpy as np\n",
    "import pandas as pd"
   ]
  },
  {
   "cell_type": "code",
   "execution_count": 2,
   "id": "1b7fdd9c",
   "metadata": {},
   "outputs": [],
   "source": [
    "x=pd.Series([24.23,25.53,25.41,24.14,29.62,28.25,25.81,24.39,40.26,32.95,91.36,25.99,39.42,26.71,35.00])"
   ]
  },
  {
   "cell_type": "code",
   "execution_count": 3,
   "id": "61b42a7b",
   "metadata": {},
   "outputs": [
    {
     "data": {
      "text/plain": [
       "(33.27133333333333, 16.945400921222028, 287.1466123809524)"
      ]
     },
     "execution_count": 3,
     "metadata": {},
     "output_type": "execute_result"
    }
   ],
   "source": [
    "x.mean(),x.std(),x.var()\n"
   ]
  },
  {
   "cell_type": "code",
   "execution_count": 4,
   "id": "f4fe79b2",
   "metadata": {},
   "outputs": [
    {
     "name": "stdout",
     "output_type": "stream",
     "text": [
      "mean=33.27\n",
      "std=16.94\n",
      "var=287.14\n"
     ]
    }
   ],
   "source": [
    "print('mean=33.27')\n",
    "print('std=16.94')\n",
    "print('var=287.14')"
   ]
  },
  {
   "cell_type": "code",
   "execution_count": null,
   "id": "3e731bd9",
   "metadata": {},
   "outputs": [],
   "source": []
  }
 ],
 "metadata": {
  "kernelspec": {
   "display_name": "Python 3 (ipykernel)",
   "language": "python",
   "name": "python3"
  },
  "language_info": {
   "codemirror_mode": {
    "name": "ipython",
    "version": 3
   },
   "file_extension": ".py",
   "mimetype": "text/x-python",
   "name": "python",
   "nbconvert_exporter": "python",
   "pygments_lexer": "ipython3",
   "version": "3.9.7"
  }
 },
 "nbformat": 4,
 "nbformat_minor": 5
}
